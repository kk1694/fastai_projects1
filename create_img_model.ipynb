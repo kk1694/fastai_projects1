{
  "nbformat": 4,
  "nbformat_minor": 0,
  "metadata": {
    "colab": {
      "name": "create_img_model.ipynb",
      "version": "0.3.2",
      "provenance": [],
      "collapsed_sections": []
    },
    "kernelspec": {
      "name": "python3",
      "display_name": "Python 3"
    },
    "accelerator": "GPU"
  },
  "cells": [
    {
      "metadata": {
        "id": "nus4yokz89ro",
        "colab_type": "code",
        "colab": {
          "base_uri": "https://localhost:8080/",
          "height": 55
        },
        "outputId": "17967a05-591c-4acd-d62b-49bd8f58d598"
      },
      "cell_type": "code",
      "source": [
        "from os import path\n",
        "from wheel.pep425tags import get_abbr_impl, get_impl_ver, get_abi_tag\n",
        "platform = '{}{}-{}'.format(get_abbr_impl(), get_impl_ver(), get_abi_tag())\n",
        "\n",
        "accelerator = 'cu80' if path.exists('/opt/bin/nvidia-smi') else 'cpu'\n",
        "\n",
        "!pip install -q http://download.pytorch.org/whl/{accelerator}/torch-0.4.0-{platform}-linux_x86_64.whl torchvision"
      ],
      "execution_count": 2,
      "outputs": [
        {
          "output_type": "stream",
          "text": [
            "tcmalloc: large alloc 1073750016 bytes == 0x5bf04000 @  0x7fe2569961c4 0x46d6a4 0x5fcbcc 0x4c494d 0x54f3c4 0x553aaf 0x54e4c8 0x54f4f6 0x553aaf 0x54efc1 0x54f24d 0x553aaf 0x54efc1 0x54f24d 0x553aaf 0x54efc1 0x54f24d 0x551ee0 0x54e4c8 0x54f4f6 0x553aaf 0x54efc1 0x54f24d 0x551ee0 0x54efc1 0x54f24d 0x551ee0 0x54e4c8 0x54f4f6 0x553aaf 0x54e4c8\n"
          ],
          "name": "stdout"
        }
      ]
    },
    {
      "metadata": {
        "id": "ukPtwL0g7E8F",
        "colab_type": "code",
        "colab": {}
      },
      "cell_type": "code",
      "source": [
        "%matplotlib inline\n",
        "%reload_ext autoreload\n",
        "%autoreload 2"
      ],
      "execution_count": 0,
      "outputs": []
    },
    {
      "metadata": {
        "id": "u9duPvrL6dJu",
        "colab_type": "code",
        "colab": {
          "base_uri": "https://localhost:8080/",
          "height": 53
        },
        "outputId": "af5410f7-ac95-46af-e99e-fd83a1f77245"
      },
      "cell_type": "code",
      "source": [
        "import numpy as np\n",
        "import matplotlib.pyplot as plt\n",
        "import os\n",
        "\n",
        "import torch\n",
        "print(torch.__version__)\n",
        "print(torch.cuda.is_available())\n",
        "\n",
        "import torchvision\n",
        "import torchvision.transforms as transforms\n",
        "import torch.nn as nn\n",
        "import torch.nn.functional as F\n",
        "from torch.utils.data import Dataset, DataLoader\n",
        "from torchvision.datasets import CIFAR10\n",
        "import torch.optim as optim"
      ],
      "execution_count": 6,
      "outputs": [
        {
          "output_type": "stream",
          "text": [
            "0.4.0\n",
            "True\n"
          ],
          "name": "stdout"
        }
      ]
    },
    {
      "metadata": {
        "id": "oyNwAkGK7CRM",
        "colab_type": "code",
        "colab": {}
      },
      "cell_type": "code",
      "source": [
        "BS = 128\n",
        "\n",
        "PATH = 'data/'\n",
        "PATH_TRAIN = PATH+'train/'\n",
        "PATH_TEST = PATH+'test/'\n",
        "\n",
        "classes = ('plane', 'car', 'bird', 'cat', 'deer', 'dog', 'frog', 'horse', 'ship', 'truck')"
      ],
      "execution_count": 0,
      "outputs": []
    },
    {
      "metadata": {
        "id": "AAflPZS87bHY",
        "colab_type": "code",
        "colab": {}
      },
      "cell_type": "code",
      "source": [
        "os.makedirs(PATH_TRAIN)\n",
        "os.makedirs(PATH_TEST)"
      ],
      "execution_count": 0,
      "outputs": []
    },
    {
      "metadata": {
        "id": "PSYqAo4i7dyF",
        "colab_type": "code",
        "colab": {
          "base_uri": "https://localhost:8080/",
          "height": 53
        },
        "outputId": "d5227d62-b2e4-436e-ddea-30a1fc51f273"
      },
      "cell_type": "code",
      "source": [
        "train_ds = CIFAR10(PATH_TRAIN, True, download = True, transform=transforms.ToTensor())\n",
        "valid_ds = CIFAR10(PATH_TEST, True, download = True, transform=transforms.ToTensor())"
      ],
      "execution_count": 9,
      "outputs": [
        {
          "output_type": "stream",
          "text": [
            "Downloading https://www.cs.toronto.edu/~kriz/cifar-10-python.tar.gz to data/train/cifar-10-python.tar.gz\n",
            "Downloading https://www.cs.toronto.edu/~kriz/cifar-10-python.tar.gz to data/test/cifar-10-python.tar.gz\n"
          ],
          "name": "stdout"
        }
      ]
    },
    {
      "metadata": {
        "id": "QqmJ3q-C7yRb",
        "colab_type": "code",
        "colab": {}
      },
      "cell_type": "code",
      "source": [
        "train_dl = DataLoader(train_ds, batch_size=BS, shuffle=True)\n",
        "valid_dl = DataLoader(valid_ds, batch_size=BS, shuffle=False)"
      ],
      "execution_count": 0,
      "outputs": []
    },
    {
      "metadata": {
        "id": "0XsvjgzuSA38",
        "colab_type": "code",
        "colab": {
          "base_uri": "https://localhost:8080/",
          "height": 284
        },
        "outputId": "df26b230-a0ff-43ea-de70-3c5e901f5999"
      },
      "cell_type": "code",
      "source": [
        "def imshow(img):\n",
        "    npimg = img.numpy()\n",
        "    plt.imshow(np.transpose(npimg, (1, 2, 0)))\n",
        "\n",
        "x, y = next(iter(train_ds))\n",
        "    \n",
        "imshow(x)\n",
        "print(classes[y])\n"
      ],
      "execution_count": 13,
      "outputs": [
        {
          "output_type": "stream",
          "text": [
            "frog\n"
          ],
          "name": "stdout"
        },
        {
          "output_type": "display_data",
          "data": {
            "image/png": "[encoded data removed]",
            "text/plain": [
              "<matplotlib.figure.Figure at 0x7fd3348139e8>"
            ]
          },
          "metadata": {
            "tags": []
          }
        }
      ]
    },
    {
      "metadata": {
        "id": "sBcqh9U-75JQ",
        "colab_type": "code",
        "colab": {}
      },
      "cell_type": "code",
      "source": [
        "class SimpleNet(nn.Module):\n",
        "    def __init__(self, layers):\n",
        "        super().__init__()\n",
        "        self.layers = nn.ModuleList([\n",
        "            nn.Linear(layers[i], layers[i + 1]) for i in range(len(layers) - 1)])\n",
        "        \n",
        "    def forward(self, x):\n",
        "        x = x.view(x.size(0), -1)\n",
        "        for l in self.layers:\n",
        "            l_x = l(x)\n",
        "            x = F.relu(l_x)\n",
        "        return F.log_softmax(l_x, dim=-1)"
      ],
      "execution_count": 0,
      "outputs": []
    },
    {
      "metadata": {
        "id": "jhCtPNU9-xLU",
        "colab_type": "code",
        "colab": {
          "base_uri": "https://localhost:8080/",
          "height": 144
        },
        "outputId": "29e451af-5ad0-42b2-a7dc-0cd10b6b8acd"
      },
      "cell_type": "code",
      "source": [
        "model = SimpleNet([32*32*3, 40, 20, 10])\n",
        "print(model)"
      ],
      "execution_count": 17,
      "outputs": [
        {
          "output_type": "stream",
          "text": [
            "SimpleNet(\n",
            "  (layers): ModuleList(\n",
            "    (0): Linear(in_features=3072, out_features=40, bias=True)\n",
            "    (1): Linear(in_features=40, out_features=20, bias=True)\n",
            "    (2): Linear(in_features=20, out_features=10, bias=True)\n",
            "  )\n",
            ")\n"
          ],
          "name": "stdout"
        }
      ]
    },
    {
      "metadata": {
        "id": "Pwnl7rEu-_r7",
        "colab_type": "code",
        "colab": {}
      },
      "cell_type": "code",
      "source": [
        "def loss_batch(model, loss_func, xb, yb, opt=None):\n",
        "    '''https://github.com/fastai/fastai_v1/blob/master/dev_nb/001a_nn_basics.ipynb'''\n",
        "    loss = loss_func(model(xb), yb)\n",
        "\n",
        "    if opt is not None:\n",
        "        loss.backward()\n",
        "        opt.step()\n",
        "        opt.zero_grad()\n",
        "        \n",
        "    return loss.item(), len(xb)\n",
        "\n",
        "def fit(epochs, model, loss_func, opt, train_dl, valid_dl):\n",
        "    '''https://github.com/fastai/fastai_v1/blob/master/dev_nb/001a_nn_basics.ipynb'''\n",
        "    for epoch in range(epochs):\n",
        "        \n",
        "        # Fit model to training data\n",
        "        model.train()\n",
        "        losses,nums = zip(*[loss_batch(model, loss_func, xb.cuda(), yb.cuda(), opt) for xb,yb in train_dl])\n",
        "        train_loss = np.sum(np.multiply(losses,nums)) / np.sum(nums)\n",
        "                    \n",
        "        # Calculate loss on validation set\n",
        "        model.eval()\n",
        "        with torch.no_grad():\n",
        "            losses,nums = zip(*[loss_batch(model, loss_func, xb.cuda(), yb.cuda())\n",
        "                                for xb,yb in valid_dl])\n",
        "        val_loss = np.sum(np.multiply(losses,nums)) / np.sum(nums)\n",
        "\n",
        "        print(f'Epoch {epoch}. Training loss: {train_loss}. Validation loss: {val_loss}.')"
      ],
      "execution_count": 0,
      "outputs": []
    },
    {
      "metadata": {
        "id": "-G8tuwwf_FBM",
        "colab_type": "code",
        "colab": {}
      },
      "cell_type": "code",
      "source": [
        "opt = optim.SGD(model.parameters(), lr=0.1, momentum=0.9)\n",
        "loss_func = nn.CrossEntropyLoss()"
      ],
      "execution_count": 0,
      "outputs": []
    },
    {
      "metadata": {
        "id": "oTJUL6AG_f1i",
        "colab_type": "code",
        "colab": {}
      },
      "cell_type": "code",
      "source": [
        "import time"
      ],
      "execution_count": 0,
      "outputs": []
    },
    {
      "metadata": {
        "id": "UZl6GOTAAY7Q",
        "colab_type": "code",
        "colab": {
          "base_uri": "https://localhost:8080/",
          "height": 89
        },
        "outputId": "1a25cd17-da7e-444e-cac0-410734c80f02"
      },
      "cell_type": "code",
      "source": [
        "start_time = time.time()\n",
        "model.cuda()\n",
        "fit(3, model, loss_func, opt, train_dl, valid_dl)\n",
        "end_time = time.time()\n",
        "print(\"--- %s seconds ---\" % (end_time - start_time))"
      ],
      "execution_count": 21,
      "outputs": [
        {
          "output_type": "stream",
          "text": [
            "Epoch 0. Training loss: 2.0469409800720215. Validation loss: 2.22978109375.\n",
            "Epoch 1. Training loss: 2.072466404953003. Validation loss: 2.1612657694244386.\n",
            "Epoch 2. Training loss: 2.1009985132598876. Validation loss: 2.1094183145141603.\n",
            "--- 50.404780626297 seconds ---\n"
          ],
          "name": "stdout"
        }
      ]
    },
    {
      "metadata": {
        "id": "SOhkC-F7_8Rq",
        "colab_type": "code",
        "colab": {}
      },
      "cell_type": "code",
      "source": [
        "class ConvLayer(nn.Module):\n",
        "    def __init__(self, ni, nf):\n",
        "        super().__init__()\n",
        "        self.conv = nn.Conv2d(ni, nf, kernel_size=3, stride=2, padding=1)\n",
        "        \n",
        "    def forward(self, x): return F.relu(self.conv(x))\n",
        "    \n",
        "class ConvNet2(nn.Module):\n",
        "    def __init__(self, layers, c):\n",
        "        super().__init__()\n",
        "        self.layers = nn.ModuleList([ConvLayer(layers[i], layers[i + 1])\n",
        "            for i in range(len(layers) - 1)])\n",
        "        self.out = nn.Linear(layers[-1], c)\n",
        "        \n",
        "    def forward(self, x):\n",
        "        for l in self.layers: x = l(x)\n",
        "        x = F.adaptive_max_pool2d(x, 1)\n",
        "        x = x.view(x.size(0), -1)\n",
        "        return F.log_softmax(self.out(x), dim=-1)"
      ],
      "execution_count": 0,
      "outputs": []
    },
    {
      "metadata": {
        "id": "cmUe0j7UAEkB",
        "colab_type": "code",
        "colab": {}
      },
      "cell_type": "code",
      "source": [
        "model = ConvNet2([3, 20, 40, 80], 10).cuda()"
      ],
      "execution_count": 0,
      "outputs": []
    },
    {
      "metadata": {
        "id": "xVU4-bm6AE4Z",
        "colab_type": "code",
        "colab": {
          "base_uri": "https://localhost:8080/",
          "height": 53
        },
        "outputId": "b51549fb-0fe3-49f2-a04a-4c60a26fe960"
      },
      "cell_type": "code",
      "source": [
        "start_time = time.time()\n",
        "fit(1, model, loss_func, opt, train_dl, valid_dl)\n",
        "end_time = time.time()\n",
        "print(\"--- %s seconds ---\" % (end_time - start_time))"
      ],
      "execution_count": 26,
      "outputs": [
        {
          "output_type": "stream",
          "text": [
            "Epoch 0. Training loss: 2.3044129958343507. Validation loss: 2.3044130042266846.\n",
            "--- 18.466835975646973 seconds ---\n"
          ],
          "name": "stdout"
        }
      ]
    },
    {
      "metadata": {
        "id": "5GB6Q1G9CaYj",
        "colab_type": "code",
        "colab": {}
      },
      "cell_type": "code",
      "source": [
        "class BnLayer(nn.Module):\n",
        "    def __init__(self, ni, nf, stride=2, kernel_size=3):\n",
        "        super().__init__()\n",
        "        self.conv = nn.Conv2d(ni, nf, kernel_size=kernel_size, stride=stride,\n",
        "                              bias=False, padding=1)\n",
        "        self.a = nn.Parameter(torch.zeros(nf,1,1))\n",
        "        self.m = nn.Parameter(torch.ones(nf,1,1))\n",
        "        \n",
        "    def forward(self, x):\n",
        "        x = F.relu(self.conv(x))\n",
        "        x_chan = x.transpose(0,1).contiguous().view(x.size(1), -1)\n",
        "        if self.training:\n",
        "            self.means = x_chan.mean(1)[:,None,None]\n",
        "            self.stds  = x_chan.std (1)[:,None,None]\n",
        "        return (x-self.means) / (self.stds + 1e-5) *self.m + self.a\n",
        "    \n",
        "class ConvBnNet(nn.Module):\n",
        "    def __init__(self, layers, c):\n",
        "        super().__init__()\n",
        "        self.conv1 = nn.Conv2d(3, 10, kernel_size=5, stride=1, padding=2)\n",
        "        self.layers = nn.ModuleList([BnLayer(layers[i], layers[i + 1])\n",
        "            for i in range(len(layers) - 1)])\n",
        "        self.out = nn.Linear(layers[-1], c)\n",
        "        \n",
        "    def forward(self, x):\n",
        "        x = self.conv1(x)\n",
        "        for l in self.layers: x = l(x)\n",
        "        x = F.adaptive_max_pool2d(x, 1)\n",
        "        x = x.view(x.size(0), -1)\n",
        "        return F.log_softmax(self.out(x), dim=-1)"
      ],
      "execution_count": 0,
      "outputs": []
    },
    {
      "metadata": {
        "id": "c6MeGu4hCaB6",
        "colab_type": "code",
        "colab": {}
      },
      "cell_type": "code",
      "source": [
        "model = ConvBnNet([10, 20, 40, 80, 160], 10).cuda()"
      ],
      "execution_count": 0,
      "outputs": []
    },
    {
      "metadata": {
        "id": "ANv_EuoxCZwq",
        "colab_type": "code",
        "colab": {
          "base_uri": "https://localhost:8080/",
          "height": 53
        },
        "outputId": "f30bac13-9d59-420a-8b65-88ec71525246"
      },
      "cell_type": "code",
      "source": [
        "start_time = time.time()\n",
        "fit(1, model, loss_func, opt, train_dl, valid_dl)\n",
        "end_time = time.time()\n",
        "print(\"--- %s seconds ---\" % (end_time - start_time))"
      ],
      "execution_count": 36,
      "outputs": [
        {
          "output_type": "stream",
          "text": [
            "Epoch 0. Training loss: 2.7670013973236083. Validation loss: 5.091566016387939.\n",
            "--- 26.17133903503418 seconds ---\n"
          ],
          "name": "stdout"
        }
      ]
    },
    {
      "metadata": {
        "id": "w-IPsZ89C-Z-",
        "colab_type": "code",
        "colab": {}
      },
      "cell_type": "code",
      "source": [
        "class ConvBnNet2(nn.Module):\n",
        "    def __init__(self, layers, c):\n",
        "        super().__init__()\n",
        "        self.conv1 = nn.Conv2d(3, 10, kernel_size=5, stride=1, padding=2)\n",
        "        self.layers = nn.ModuleList([BnLayer(layers[i], layers[i+1])\n",
        "            for i in range(len(layers) - 1)])\n",
        "        self.layers2 = nn.ModuleList([BnLayer(layers[i+1], layers[i + 1], 1)\n",
        "            for i in range(len(layers) - 1)])\n",
        "        self.out = nn.Linear(layers[-1], c)\n",
        "        \n",
        "    def forward(self, x):\n",
        "        x = self.conv1(x)\n",
        "        for l,l2 in zip(self.layers, self.layers2):\n",
        "            x = l(x)\n",
        "            x = l2(x)\n",
        "        x = F.adaptive_max_pool2d(x, 1)\n",
        "        x = x.view(x.size(0), -1)\n",
        "        return F.log_softmax(self.out(x), dim=-1)"
      ],
      "execution_count": 0,
      "outputs": []
    },
    {
      "metadata": {
        "id": "qSVpVOlzC-J9",
        "colab_type": "code",
        "colab": {}
      },
      "cell_type": "code",
      "source": [
        "model = ConvBnNet2([10, 20, 40, 80, 160], 10).cuda()"
      ],
      "execution_count": 0,
      "outputs": []
    },
    {
      "metadata": {
        "id": "LUnXwrLOC94G",
        "colab_type": "code",
        "colab": {
          "base_uri": "https://localhost:8080/",
          "height": 53
        },
        "outputId": "a53e8046-d703-4261-b613-83593d7e5c92"
      },
      "cell_type": "code",
      "source": [
        "start_time = time.time()\n",
        "fit(1, model, loss_func, opt, train_dl, valid_dl)\n",
        "end_time = time.time()\n",
        "print(\"--- %s seconds ---\" % (end_time - start_time))"
      ],
      "execution_count": 39,
      "outputs": [
        {
          "output_type": "stream",
          "text": [
            "Epoch 0. Training loss: 2.571094758758545. Validation loss: 2.591096190948486.\n",
            "--- 32.87595057487488 seconds ---\n"
          ],
          "name": "stdout"
        }
      ]
    },
    {
      "metadata": {
        "id": "Cf48j93xC9od",
        "colab_type": "code",
        "colab": {}
      },
      "cell_type": "code",
      "source": [
        "class ResnetLayer(BnLayer):\n",
        "    def forward(self, x): return x + super().forward(x)\n",
        "    \n",
        "class Resnet(nn.Module):\n",
        "    def __init__(self, layers, c):\n",
        "        super().__init__()\n",
        "        self.conv1 = nn.Conv2d(3, 10, kernel_size=5, stride=1, padding=2)\n",
        "        self.layers = nn.ModuleList([BnLayer(layers[i], layers[i+1])\n",
        "            for i in range(len(layers) - 1)])\n",
        "        self.layers2 = nn.ModuleList([ResnetLayer(layers[i+1], layers[i + 1], 1)\n",
        "            for i in range(len(layers) - 1)])\n",
        "        self.layers3 = nn.ModuleList([ResnetLayer(layers[i+1], layers[i + 1], 1)\n",
        "            for i in range(len(layers) - 1)])\n",
        "        self.out = nn.Linear(layers[-1], c)\n",
        "        \n",
        "    def forward(self, x):\n",
        "        x = self.conv1(x)\n",
        "        for l,l2,l3 in zip(self.layers, self.layers2, self.layers3):\n",
        "            x = l3(l2(l(x)))\n",
        "        x = F.adaptive_max_pool2d(x, 1)\n",
        "        x = x.view(x.size(0), -1)\n",
        "        return F.log_softmax(self.out(x), dim=-1)"
      ],
      "execution_count": 0,
      "outputs": []
    },
    {
      "metadata": {
        "id": "qBnlydMxDlqK",
        "colab_type": "code",
        "colab": {}
      },
      "cell_type": "code",
      "source": [
        "model = Resnet([10, 20, 40, 80, 160], 10).cuda()"
      ],
      "execution_count": 0,
      "outputs": []
    },
    {
      "metadata": {
        "id": "MzLlVcKjC9YC",
        "colab_type": "code",
        "colab": {
          "base_uri": "https://localhost:8080/",
          "height": 53
        },
        "outputId": "6dda556d-77f4-459a-9540-4b4c6b62350b"
      },
      "cell_type": "code",
      "source": [
        "start_time = time.time()\n",
        "fit(1, model, loss_func, opt, train_dl, valid_dl)\n",
        "end_time = time.time()\n",
        "print(\"--- %s seconds ---\" % (end_time - start_time))"
      ],
      "execution_count": 44,
      "outputs": [
        {
          "output_type": "stream",
          "text": [
            "Epoch 0. Training loss: 3.024303991622925. Validation loss: 3.0820849451446533.\n",
            "--- 42.68823194503784 seconds ---\n"
          ],
          "name": "stdout"
        }
      ]
    },
    {
      "metadata": {
        "id": "wbMgg24i_HY6",
        "colab_type": "code",
        "colab": {}
      },
      "cell_type": "code",
      "source": [
        "class Resnet2(nn.Module):\n",
        "    def __init__(self, layers, c, p=0.5):\n",
        "        super().__init__()\n",
        "        self.conv1 = BnLayer(3, 16, stride=1, kernel_size=7)\n",
        "        self.layers = nn.ModuleList([BnLayer(layers[i], layers[i+1])\n",
        "            for i in range(len(layers) - 1)])\n",
        "        self.layers2 = nn.ModuleList([ResnetLayer(layers[i+1], layers[i + 1], 1)\n",
        "            for i in range(len(layers) - 1)])\n",
        "        self.layers3 = nn.ModuleList([ResnetLayer(layers[i+1], layers[i + 1], 1)\n",
        "            for i in range(len(layers) - 1)])\n",
        "        self.out = nn.Linear(layers[-1], c)\n",
        "        self.drop = nn.Dropout(p)\n",
        "        \n",
        "    def forward(self, x):\n",
        "        x = self.conv1(x)\n",
        "        for l,l2,l3 in zip(self.layers, self.layers2, self.layers3):\n",
        "            x = l3(l2(l(x)))\n",
        "        x = F.adaptive_max_pool2d(x, 1)\n",
        "        x = x.view(x.size(0), -1)\n",
        "        x = self.drop(x)\n",
        "        return F.log_softmax(self.out(x), dim=-1)"
      ],
      "execution_count": 0,
      "outputs": []
    },
    {
      "metadata": {
        "id": "mu98uy_zD4hK",
        "colab_type": "code",
        "colab": {}
      },
      "cell_type": "code",
      "source": [
        "model = Resnet2([16, 32, 64, 128, 256], 10, 0.2).cuda()"
      ],
      "execution_count": 0,
      "outputs": []
    },
    {
      "metadata": {
        "id": "1cyNlehOD8Pp",
        "colab_type": "code",
        "colab": {}
      },
      "cell_type": "code",
      "source": [
        "opt = optim.SGD(model.parameters(), lr=0.01, momentum=0.9, weight_decay=1e-5)\n",
        "loss_func = nn.CrossEntropyLoss()"
      ],
      "execution_count": 0,
      "outputs": []
    },
    {
      "metadata": {
        "id": "WvICJ3OTEJVW",
        "colab_type": "code",
        "colab": {
          "base_uri": "https://localhost:8080/",
          "height": 53
        },
        "outputId": "00ded00c-8e11-40cf-97cc-b401d2b2df20"
      },
      "cell_type": "code",
      "source": [
        "start_time = time.time()\n",
        "fit(1, model, loss_func, opt, train_dl, valid_dl)\n",
        "end_time = time.time()\n",
        "print(\"--- %s seconds ---\" % (end_time - start_time))"
      ],
      "execution_count": 48,
      "outputs": [
        {
          "output_type": "stream",
          "text": [
            "Epoch 0. Training loss: 2.316374485092163. Validation loss: 6456.414556367187.\n",
            "--- 59.9325168132782 seconds ---\n"
          ],
          "name": "stdout"
        }
      ]
    },
    {
      "metadata": {
        "id": "BW5GIM7PG3iy",
        "colab_type": "code",
        "colab": {
          "base_uri": "https://localhost:8080/",
          "height": 126
        },
        "outputId": "5f0b22cd-6cec-41ae-a30f-a5b5adef63b6"
      },
      "cell_type": "code",
      "source": [
        "start_time = time.time()\n",
        "fit(5, model, loss_func, opt, train_dl, valid_dl)\n",
        "end_time = time.time()\n",
        "print(\"--- %s seconds ---\" % (end_time - start_time))"
      ],
      "execution_count": 51,
      "outputs": [
        {
          "output_type": "stream",
          "text": [
            "Epoch 0. Training loss: 1.5029451962280274. Validation loss: 1.1253611541748048.\n",
            "Epoch 1. Training loss: 1.2606730559539794. Validation loss: 3.089267018966675.\n",
            "Epoch 2. Training loss: 1.1255294267654419. Validation loss: 1.0127433842658997.\n",
            "Epoch 3. Training loss: 0.9518194551086426. Validation loss: 0.686806518611908.\n",
            "Epoch 4. Training loss: 0.853570230293274. Validation loss: 0.811681506652832.\n",
            "--- 298.1899530887604 seconds ---\n"
          ],
          "name": "stdout"
        }
      ]
    },
    {
      "metadata": {
        "id": "PHOm8sQTEmty",
        "colab_type": "code",
        "colab": {}
      },
      "cell_type": "code",
      "source": [
        "def predict(m, dl, as_torch = False):\n",
        "    \n",
        "    m.eval()\n",
        "    preds = []\n",
        "    ys = []\n",
        "    \n",
        "    with torch.no_grad():     \n",
        "        for xb, yb in dl:\n",
        "            preds.append(m(xb.cuda()))\n",
        "            ys.append(yb.cuda())\n",
        "            \n",
        "    preds = torch.cat(preds, dim = 0)\n",
        "    ys = torch.cat(ys, dim = 0)\n",
        "    \n",
        "    if ~as_torch: \n",
        "        preds = np.array(preds)\n",
        "        ys = np.array(ys)\n",
        "            \n",
        "    return preds, ys"
      ],
      "execution_count": 0,
      "outputs": []
    },
    {
      "metadata": {
        "id": "_lGFcWmPLMUp",
        "colab_type": "code",
        "colab": {}
      },
      "cell_type": "code",
      "source": [
        "def get_val_acc(m, dl):\n",
        "    log_probs, targets = predict(m, valid_dl)\n",
        "    preds = np.argmax(log_probs, axis = 1)\n",
        "    return sum(preds == targets) / targets.shape[0]"
      ],
      "execution_count": 0,
      "outputs": []
    },
    {
      "metadata": {
        "id": "HSRTO9wRLa1d",
        "colab_type": "code",
        "colab": {
          "base_uri": "https://localhost:8080/",
          "height": 35
        },
        "outputId": "a5fca956-4cba-4f6d-c8ea-79474b68cd6c"
      },
      "cell_type": "code",
      "source": [
        "get_val_acc(model, valid_dl)"
      ],
      "execution_count": 89,
      "outputs": [
        {
          "output_type": "execute_result",
          "data": {
            "text/plain": [
              "0.80586"
            ]
          },
          "metadata": {
            "tags": []
          },
          "execution_count": 89
        }
      ]
    },
    {
      "metadata": {
        "id": "rawlue4ILobz",
        "colab_type": "code",
        "colab": {}
      },
      "cell_type": "code",
      "source": [
        "def loss_batch(model, loss_func, xb, yb, opt=None):\n",
        "    '''https://github.com/fastai/fastai_v1/blob/master/dev_nb/001a_nn_basics.ipynb'''\n",
        "    loss = loss_func(model(xb), yb)\n",
        "\n",
        "    if opt is not None:\n",
        "        loss.backward()\n",
        "        opt.step()\n",
        "        opt.zero_grad()\n",
        "        \n",
        "    return loss.item(), len(xb)\n",
        "\n",
        "def fit(epochs, model, loss_func, opt, train_dl, valid_dl):\n",
        "    '''https://github.com/fastai/fastai_v1/blob/master/dev_nb/001a_nn_basics.ipynb'''\n",
        "    \n",
        "    fig, axes = plt.subplots(nrows = 1, ncols = epochs, figsize = (epochs*4, 4))\n",
        "    for epoch in range(epochs):\n",
        "        \n",
        "        # Fit model to training data\n",
        "        model.train()\n",
        "        losses,nums = zip(*[loss_batch(model, loss_func, xb.cuda(), yb.cuda(), opt) for xb,yb in train_dl])\n",
        "        train_loss = np.sum(np.multiply(losses,nums)) / np.sum(nums)\n",
        "        \n",
        "        axes[epoch].plot(np.arange(len(train_dl)), np.array(losses))\n",
        "                    \n",
        "        # Calculate loss on validation set\n",
        "        model.eval()\n",
        "        with torch.no_grad():\n",
        "            losses,nums = zip(*[loss_batch(model, loss_func, xb.cuda(), yb.cuda())\n",
        "                                for xb,yb in valid_dl])\n",
        "        val_loss = np.sum(np.multiply(losses,nums)) / np.sum(nums)\n",
        "\n",
        "        print(f'Epoch {epoch}. Training loss: {train_loss}. Validation loss: {val_loss}.')\n",
        "    plt.show()"
      ],
      "execution_count": 0,
      "outputs": []
    },
    {
      "metadata": {
        "id": "-tdhlvq1NUJq",
        "colab_type": "code",
        "colab": {
          "base_uri": "https://localhost:8080/",
          "height": 378
        },
        "outputId": "1e377ae4-f086-47f2-b71b-de6a9ef315c4"
      },
      "cell_type": "code",
      "source": [
        "start_time = time.time()\n",
        "fit(5, model, loss_func, opt, train_dl, valid_dl)\n",
        "end_time = time.time()\n",
        "print(\"--- %s seconds ---\" % (end_time - start_time))"
      ],
      "execution_count": 113,
      "outputs": [
        {
          "output_type": "display_data",
          "data": {
            "image/png": "[encoded data removed]",
            "text/plain": [
              "<matplotlib.figure.Figure at 0x7fd2ce093780>"
            ]
          },
          "metadata": {
            "tags": []
          }
        },
        {
          "output_type": "stream",
          "text": [
            "Epoch 0. Training loss: 0.4181226163291931. Validation loss: 0.3140957693386078.\n",
            "Epoch 1. Training loss: 0.3200704450416565. Validation loss: 0.17696702772140502.\n",
            "Epoch 2. Training loss: 0.24708212211608888. Validation loss: 0.14556892649173736.\n",
            "Epoch 3. Training loss: 0.18875140435218812. Validation loss: 0.14888816385030745.\n",
            "Epoch 4. Training loss: 0.14976925646305084. Validation loss: 0.12909435069799424.\n",
            "--- 304.32636761665344 seconds ---\n"
          ],
          "name": "stdout"
        }
      ]
    },
    {
      "metadata": {
        "id": "FjcgBwP4ShmY",
        "colab_type": "code",
        "colab": {
          "base_uri": "https://localhost:8080/",
          "height": 323
        },
        "outputId": "b569ae84-1764-4564-dcb1-809513f19391"
      },
      "cell_type": "code",
      "source": [
        "start_time = time.time()\n",
        "fit(2, model, loss_func, opt, train_dl, valid_dl)\n",
        "end_time = time.time()\n",
        "print(\"--- %s seconds ---\" % (end_time - start_time))"
      ],
      "execution_count": 123,
      "outputs": [
        {
          "output_type": "stream",
          "text": [
            "Epoch 0. Training loss: 0.12467884772777557. Validation loss: 0.09054129659533501.\n",
            "Epoch 1. Training loss: 0.10937391487598419. Validation loss: 0.08216328085422515.\n"
          ],
          "name": "stdout"
        },
        {
          "output_type": "display_data",
          "data": {
            "image/png": "[encoded data removed]",
            "text/plain": [
              "<matplotlib.figure.Figure at 0x7fd2c03c3668>"
            ]
          },
          "metadata": {
            "tags": []
          }
        },
        {
          "output_type": "stream",
          "text": [
            "--- 122.08737516403198 seconds ---\n"
          ],
          "name": "stdout"
        }
      ]
    },
    {
      "metadata": {
        "id": "HveSOPU2MDN2",
        "colab_type": "code",
        "colab": {
          "base_uri": "https://localhost:8080/",
          "height": 35
        },
        "outputId": "ad390e42-47fa-4ec9-d87f-1ba6b24c56e0"
      },
      "cell_type": "code",
      "source": [
        "get_val_acc(model, valid_dl)"
      ],
      "execution_count": 124,
      "outputs": [
        {
          "output_type": "execute_result",
          "data": {
            "text/plain": [
              "0.97244"
            ]
          },
          "metadata": {
            "tags": []
          },
          "execution_count": 124
        }
      ]
    }
  ]
}