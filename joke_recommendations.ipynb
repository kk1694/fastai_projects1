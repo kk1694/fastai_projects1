{
  "nbformat": 4,
  "nbformat_minor": 0,
  "metadata": {
    "colab": {
      "name": "joke_recommendations.ipynb",
      "version": "0.3.2",
      "provenance": [],
      "collapsed_sections": [],
      "toc_visible": true
    },
    "kernelspec": {
      "name": "python3",
      "display_name": "Python 3"
    }
  },
  "cells": [
    {
      "metadata": {
        "id": "N_VIxfXXIm5w",
        "colab_type": "text"
      },
      "cell_type": "markdown",
      "source": [
        "# Building a Joke Recommendation System"
      ]
    },
    {
      "metadata": {
        "id": "jsi3e859IUvX",
        "colab_type": "code",
        "colab": {}
      },
      "cell_type": "code",
      "source": [
        "# http://pytorch.org/\n",
        "from os import path\n",
        "from wheel.pep425tags import get_abbr_impl, get_impl_ver, get_abi_tag\n",
        "platform = '{}{}-{}'.format(get_abbr_impl(), get_impl_ver(), get_abi_tag())\n",
        "\n",
        "accelerator = 'cu80' if path.exists('/opt/bin/nvidia-smi') else 'cpu'\n",
        "\n",
        "!pip install -q http://download.pytorch.org/whl/{accelerator}/torch-0.3.0.post4-{platform}-linux_x86_64.whl torchvision\n",
        "import torch"
      ],
      "execution_count": 0,
      "outputs": []
    },
    {
      "metadata": {
        "id": "0a7ctn0OOHkC",
        "colab_type": "code",
        "colab": {
          "base_uri": "https://localhost:8080/",
          "height": 129
        },
        "outputId": "d34ff45d-1748-45cb-e83b-abb9f2d307f7"
      },
      "cell_type": "code",
      "source": [
        "# Only needed on google colab\n",
        "!pip install xlrd"
      ],
      "execution_count": 22,
      "outputs": [
        {
          "output_type": "stream",
          "text": [
            "Collecting xlrd\n",
            "\u001b[?25l  Downloading https://files.pythonhosted.org/packages/07/e6/e95c4eec6221bfd8528bcc4ea252a850bffcc4be88ebc367e23a1a84b0bb/xlrd-1.1.0-py2.py3-none-any.whl (108kB)\n",
            "\u001b[K    100% |████████████████████████████████| 112kB 4.4MB/s \n",
            "\u001b[?25hInstalling collected packages: xlrd\n",
            "Successfully installed xlrd-1.1.0\n"
          ],
          "name": "stdout"
        }
      ]
    },
    {
      "metadata": {
        "id": "L_kGXWnSImGq",
        "colab_type": "code",
        "colab": {}
      },
      "cell_type": "code",
      "source": [
        "import numpy as np\n",
        "import pandas as pd\n",
        "import os\n",
        "import shutil"
      ],
      "execution_count": 0,
      "outputs": []
    },
    {
      "metadata": {
        "id": "lYCVhy-DPjjj",
        "colab_type": "code",
        "colab": {}
      },
      "cell_type": "code",
      "source": [
        "import random"
      ],
      "execution_count": 0,
      "outputs": []
    },
    {
      "metadata": {
        "id": "I2nSKZx9dPaR",
        "colab_type": "code",
        "colab": {}
      },
      "cell_type": "code",
      "source": [
        "from sklearn.model_selection import train_test_split"
      ],
      "execution_count": 0,
      "outputs": []
    },
    {
      "metadata": {
        "id": "Vb0tJNwUIlx7",
        "colab_type": "code",
        "colab": {}
      },
      "cell_type": "code",
      "source": [
        "PATH = 'data/jester/'\n",
        "\n",
        "if not os.path.exists(PATH):\n",
        "    os.makedirs(PATH)"
      ],
      "execution_count": 0,
      "outputs": []
    },
    {
      "metadata": {
        "id": "8t5I8KEUM0nd",
        "colab_type": "code",
        "colab": {
          "base_uri": "https://localhost:8080/",
          "height": 109
        },
        "outputId": "d11e3be8-d791-4b27-fb58-a8b2bc71c096"
      },
      "cell_type": "code",
      "source": [
        "!wget http://eigentaste.berkeley.edu/dataset/jester_dataset_3.zip\n",
        "!unzip jester_dataset_3.zip\n",
        "shutil.move('jesterfinal151cols.xls', PATH+'jesterfinal151cols.xls')"
      ],
      "execution_count": 18,
      "outputs": [
        {
          "output_type": "stream",
          "text": [
            "\n",
            "Redirecting output to ‘wget-log.1’.\n",
            "Archive:  jester_dataset_3.zip\n",
            "  inflating: jesterfinal151cols.xls  \n"
          ],
          "name": "stdout"
        },
        {
          "output_type": "execute_result",
          "data": {
            "text/plain": [
              "'data/jester/jesterfinal151cols.xls'"
            ]
          },
          "metadata": {
            "tags": []
          },
          "execution_count": 18
        }
      ]
    },
    {
      "metadata": {
        "id": "Es6UzzeoNmR5",
        "colab_type": "text"
      },
      "cell_type": "markdown",
      "source": [
        "## Format Data"
      ]
    },
    {
      "metadata": {
        "id": "UkKMFpAPN21J",
        "colab_type": "code",
        "colab": {
          "base_uri": "https://localhost:8080/",
          "height": 236
        },
        "outputId": "90c63967-75b2-473d-a0b5-a1da5529d615"
      },
      "cell_type": "code",
      "source": [
        "rat = pd.read_excel(PATH+'jesterfinal151cols.xls', header = None)\n",
        "rat.head()"
      ],
      "execution_count": 24,
      "outputs": [
        {
          "output_type": "execute_result",
          "data": {
            "text/html": [
              "<div>\n",
              "<style scoped>\n",
              "    .dataframe tbody tr th:only-of-type {\n",
              "        vertical-align: middle;\n",
              "    }\n",
              "\n",
              "    .dataframe tbody tr th {\n",
              "        vertical-align: top;\n",
              "    }\n",
              "\n",
              "    .dataframe thead th {\n",
              "        text-align: right;\n",
              "    }\n",
              "</style>\n",
              "<table border=\"1\" class=\"dataframe\">\n",
              "  <thead>\n",
              "    <tr style=\"text-align: right;\">\n",
              "      <th></th>\n",
              "      <th>0</th>\n",
              "      <th>1</th>\n",
              "      <th>2</th>\n",
              "      <th>3</th>\n",
              "      <th>4</th>\n",
              "      <th>5</th>\n",
              "      <th>6</th>\n",
              "      <th>7</th>\n",
              "      <th>8</th>\n",
              "      <th>9</th>\n",
              "      <th>...</th>\n",
              "      <th>141</th>\n",
              "      <th>142</th>\n",
              "      <th>143</th>\n",
              "      <th>144</th>\n",
              "      <th>145</th>\n",
              "      <th>146</th>\n",
              "      <th>147</th>\n",
              "      <th>148</th>\n",
              "      <th>149</th>\n",
              "      <th>150</th>\n",
              "    </tr>\n",
              "  </thead>\n",
              "  <tbody>\n",
              "    <tr>\n",
              "      <th>0</th>\n",
              "      <td>62</td>\n",
              "      <td>99</td>\n",
              "      <td>99</td>\n",
              "      <td>99</td>\n",
              "      <td>99</td>\n",
              "      <td>0.21875</td>\n",
              "      <td>99</td>\n",
              "      <td>-9.28125</td>\n",
              "      <td>-9.28125</td>\n",
              "      <td>99</td>\n",
              "      <td>...</td>\n",
              "      <td>99.0</td>\n",
              "      <td>99.0</td>\n",
              "      <td>99.0</td>\n",
              "      <td>99.0</td>\n",
              "      <td>99.0</td>\n",
              "      <td>99.0</td>\n",
              "      <td>99.0</td>\n",
              "      <td>99.0</td>\n",
              "      <td>99.0</td>\n",
              "      <td>99.0</td>\n",
              "    </tr>\n",
              "    <tr>\n",
              "      <th>1</th>\n",
              "      <td>34</td>\n",
              "      <td>99</td>\n",
              "      <td>99</td>\n",
              "      <td>99</td>\n",
              "      <td>99</td>\n",
              "      <td>-9.68750</td>\n",
              "      <td>99</td>\n",
              "      <td>9.93750</td>\n",
              "      <td>9.53125</td>\n",
              "      <td>99</td>\n",
              "      <td>...</td>\n",
              "      <td>99.0</td>\n",
              "      <td>99.0</td>\n",
              "      <td>99.0</td>\n",
              "      <td>99.0</td>\n",
              "      <td>99.0</td>\n",
              "      <td>99.0</td>\n",
              "      <td>99.0</td>\n",
              "      <td>99.0</td>\n",
              "      <td>99.0</td>\n",
              "      <td>99.0</td>\n",
              "    </tr>\n",
              "    <tr>\n",
              "      <th>2</th>\n",
              "      <td>18</td>\n",
              "      <td>99</td>\n",
              "      <td>99</td>\n",
              "      <td>99</td>\n",
              "      <td>99</td>\n",
              "      <td>-9.84375</td>\n",
              "      <td>99</td>\n",
              "      <td>-9.84375</td>\n",
              "      <td>-7.21875</td>\n",
              "      <td>99</td>\n",
              "      <td>...</td>\n",
              "      <td>99.0</td>\n",
              "      <td>99.0</td>\n",
              "      <td>99.0</td>\n",
              "      <td>99.0</td>\n",
              "      <td>99.0</td>\n",
              "      <td>99.0</td>\n",
              "      <td>99.0</td>\n",
              "      <td>99.0</td>\n",
              "      <td>99.0</td>\n",
              "      <td>99.0</td>\n",
              "    </tr>\n",
              "    <tr>\n",
              "      <th>3</th>\n",
              "      <td>82</td>\n",
              "      <td>99</td>\n",
              "      <td>99</td>\n",
              "      <td>99</td>\n",
              "      <td>99</td>\n",
              "      <td>6.90625</td>\n",
              "      <td>99</td>\n",
              "      <td>4.75000</td>\n",
              "      <td>-5.90625</td>\n",
              "      <td>99</td>\n",
              "      <td>...</td>\n",
              "      <td>99.0</td>\n",
              "      <td>99.0</td>\n",
              "      <td>99.0</td>\n",
              "      <td>99.0</td>\n",
              "      <td>99.0</td>\n",
              "      <td>99.0</td>\n",
              "      <td>99.0</td>\n",
              "      <td>99.0</td>\n",
              "      <td>99.0</td>\n",
              "      <td>99.0</td>\n",
              "    </tr>\n",
              "    <tr>\n",
              "      <th>4</th>\n",
              "      <td>27</td>\n",
              "      <td>99</td>\n",
              "      <td>99</td>\n",
              "      <td>99</td>\n",
              "      <td>99</td>\n",
              "      <td>-0.03125</td>\n",
              "      <td>99</td>\n",
              "      <td>-9.09375</td>\n",
              "      <td>-0.40625</td>\n",
              "      <td>99</td>\n",
              "      <td>...</td>\n",
              "      <td>99.0</td>\n",
              "      <td>99.0</td>\n",
              "      <td>99.0</td>\n",
              "      <td>99.0</td>\n",
              "      <td>99.0</td>\n",
              "      <td>99.0</td>\n",
              "      <td>99.0</td>\n",
              "      <td>99.0</td>\n",
              "      <td>99.0</td>\n",
              "      <td>99.0</td>\n",
              "    </tr>\n",
              "  </tbody>\n",
              "</table>\n",
              "<p>5 rows × 151 columns</p>\n",
              "</div>"
            ],
            "text/plain": [
              "   0    1    2    3    4        5    6        7        8    9    ...    141  \\\n",
              "0   62   99   99   99   99  0.21875   99 -9.28125 -9.28125   99  ...   99.0   \n",
              "1   34   99   99   99   99 -9.68750   99  9.93750  9.53125   99  ...   99.0   \n",
              "2   18   99   99   99   99 -9.84375   99 -9.84375 -7.21875   99  ...   99.0   \n",
              "3   82   99   99   99   99  6.90625   99  4.75000 -5.90625   99  ...   99.0   \n",
              "4   27   99   99   99   99 -0.03125   99 -9.09375 -0.40625   99  ...   99.0   \n",
              "\n",
              "    142   143   144   145   146   147   148   149   150  \n",
              "0  99.0  99.0  99.0  99.0  99.0  99.0  99.0  99.0  99.0  \n",
              "1  99.0  99.0  99.0  99.0  99.0  99.0  99.0  99.0  99.0  \n",
              "2  99.0  99.0  99.0  99.0  99.0  99.0  99.0  99.0  99.0  \n",
              "3  99.0  99.0  99.0  99.0  99.0  99.0  99.0  99.0  99.0  \n",
              "4  99.0  99.0  99.0  99.0  99.0  99.0  99.0  99.0  99.0  \n",
              "\n",
              "[5 rows x 151 columns]"
            ]
          },
          "metadata": {
            "tags": []
          },
          "execution_count": 24
        }
      ]
    },
    {
      "metadata": {
        "id": "YzV6NJZlN8nP",
        "colab_type": "code",
        "colab": {
          "base_uri": "https://localhost:8080/",
          "height": 35
        },
        "outputId": "45e2a98d-4dfa-404c-b411-d0ab0833ffcc"
      },
      "cell_type": "code",
      "source": [
        "gauge_set = [7, 8, 13, 15, 16, 17, 18, 19]\n",
        "np.any(np.array(rat[gauge_set] == 99))  # Check if any rating is missing"
      ],
      "execution_count": 26,
      "outputs": [
        {
          "output_type": "execute_result",
          "data": {
            "text/plain": [
              "False"
            ]
          },
          "metadata": {
            "tags": []
          },
          "execution_count": 26
        }
      ]
    },
    {
      "metadata": {
        "id": "hlZMBrHkOg8p",
        "colab_type": "code",
        "colab": {}
      },
      "cell_type": "code",
      "source": [
        "# These jokes have been removed\n",
        "rem_list = [1, 2, 3, 4, 5, 6, 9, 10, 11, 12, 14, 20, 27, 31, 43, 51, 52, 61, 73, 80, 100, 116]\n",
        "rat.drop(rem_list, axis = 1, inplace=True)"
      ],
      "execution_count": 0,
      "outputs": []
    },
    {
      "metadata": {
        "id": "I0lRoGEbOoKY",
        "colab_type": "code",
        "colab": {
          "base_uri": "https://localhost:8080/",
          "height": 206
        },
        "outputId": "a1d13e6e-465a-41c5-a349-5da8983e16ff"
      },
      "cell_type": "code",
      "source": [
        "# Add user ID, name column 0 (indicating the # of rated movies)\n",
        "rat['user_id'] = list(range(len(rat.index)))\n",
        "rat.rename({0:'num_rated'}, axis = 1, inplace=True)\n",
        "rat = rat.melt(id_vars=['user_id', 'num_rated'], var_name='joke_id', value_name='rating')\n",
        "rat = rat[rat['rating'] != 99]\n",
        "rat.head()"
      ],
      "execution_count": 28,
      "outputs": [
        {
          "output_type": "execute_result",
          "data": {
            "text/html": [
              "<div>\n",
              "<style scoped>\n",
              "    .dataframe tbody tr th:only-of-type {\n",
              "        vertical-align: middle;\n",
              "    }\n",
              "\n",
              "    .dataframe tbody tr th {\n",
              "        vertical-align: top;\n",
              "    }\n",
              "\n",
              "    .dataframe thead th {\n",
              "        text-align: right;\n",
              "    }\n",
              "</style>\n",
              "<table border=\"1\" class=\"dataframe\">\n",
              "  <thead>\n",
              "    <tr style=\"text-align: right;\">\n",
              "      <th></th>\n",
              "      <th>user_id</th>\n",
              "      <th>num_rated</th>\n",
              "      <th>joke_id</th>\n",
              "      <th>rating</th>\n",
              "    </tr>\n",
              "  </thead>\n",
              "  <tbody>\n",
              "    <tr>\n",
              "      <th>0</th>\n",
              "      <td>0</td>\n",
              "      <td>62</td>\n",
              "      <td>7</td>\n",
              "      <td>-9.28125</td>\n",
              "    </tr>\n",
              "    <tr>\n",
              "      <th>1</th>\n",
              "      <td>1</td>\n",
              "      <td>34</td>\n",
              "      <td>7</td>\n",
              "      <td>9.93750</td>\n",
              "    </tr>\n",
              "    <tr>\n",
              "      <th>2</th>\n",
              "      <td>2</td>\n",
              "      <td>18</td>\n",
              "      <td>7</td>\n",
              "      <td>-9.84375</td>\n",
              "    </tr>\n",
              "    <tr>\n",
              "      <th>3</th>\n",
              "      <td>3</td>\n",
              "      <td>82</td>\n",
              "      <td>7</td>\n",
              "      <td>4.75000</td>\n",
              "    </tr>\n",
              "    <tr>\n",
              "      <th>4</th>\n",
              "      <td>4</td>\n",
              "      <td>27</td>\n",
              "      <td>7</td>\n",
              "      <td>-9.09375</td>\n",
              "    </tr>\n",
              "  </tbody>\n",
              "</table>\n",
              "</div>"
            ],
            "text/plain": [
              "   user_id  num_rated joke_id   rating\n",
              "0        0         62       7 -9.28125\n",
              "1        1         34       7  9.93750\n",
              "2        2         18       7 -9.84375\n",
              "3        3         82       7  4.75000\n",
              "4        4         27       7 -9.09375"
            ]
          },
          "metadata": {
            "tags": []
          },
          "execution_count": 28
        }
      ]
    },
    {
      "metadata": {
        "id": "1FXGi7V3Ox_K",
        "colab_type": "code",
        "colab": {
          "base_uri": "https://localhost:8080/",
          "height": 35
        },
        "outputId": "f083788e-c50f-4c46-881f-275ca68289cb"
      },
      "cell_type": "code",
      "source": [
        "(len(rat.index), rat['user_id'].max(), len(gauge_set), len(set(rat['joke_id'])))"
      ],
      "execution_count": 29,
      "outputs": [
        {
          "output_type": "execute_result",
          "data": {
            "text/plain": [
              "(1725765, 50691, 8, 128)"
            ]
          },
          "metadata": {
            "tags": []
          },
          "execution_count": 29
        }
      ]
    },
    {
      "metadata": {
        "id": "0o_tK6pQO5Np",
        "colab_type": "text"
      },
      "cell_type": "markdown",
      "source": [
        "Summary:\n",
        "- 50k users\n",
        "- 128 jokes, 8 are a gauge set that everyone responded to\n",
        "- 1.7 million ratings"
      ]
    },
    {
      "metadata": {
        "id": "hmrE1XCWO8mT",
        "colab_type": "text"
      },
      "cell_type": "markdown",
      "source": [
        "## Separate train/valid/test sets"
      ]
    },
    {
      "metadata": {
        "id": "8fkaCZpKPXio",
        "colab_type": "code",
        "colab": {
          "base_uri": "https://localhost:8080/",
          "height": 54
        },
        "outputId": "526f99f5-5b30-4849-d32a-9d8a6a62019a"
      },
      "cell_type": "code",
      "source": [
        "test_probs = (0.1, 0.2, 0.05)  # numbers for new users, new jokes, existing users & jokes\n",
        "valid_prob = 0.05\n",
        "\n",
        "user_idxs = set(rat['user_id'].unique())\n",
        "joke_idxs = set(rat['joke_id'].unique()) - set(gauge_set)\n",
        "random.seed(101)\n",
        "test_user_idxs = random.sample(user_idxs, int(len(user_idxs)*test_probs[0]))\n",
        "random.seed(101)\n",
        "test_joke_idxs = random.sample(joke_idxs, int(len(joke_idxs)*test_probs[1]))\n",
        "print(test_user_idxs[:10])\n",
        "print(test_joke_idxs)"
      ],
      "execution_count": 95,
      "outputs": [
        {
          "output_type": "stream",
          "text": [
            "[38086, 12763, 35338, 23506, 30614, 3179, 43481, 32998, 14058, 39455]\n",
            "[104, 139, 48, 147, 98, 72, 88, 28, 114, 93, 53, 107, 54, 63, 91, 119, 131, 140, 69, 85, 32, 58, 148, 44]\n"
          ],
          "name": "stdout"
        }
      ]
    },
    {
      "metadata": {
        "id": "QvLpVfxeQsMB",
        "colab_type": "code",
        "colab": {}
      },
      "cell_type": "code",
      "source": [
        "user_flag = rat['user_id'].isin(test_user_idxs)\n",
        "joke_flag = rat['joke_id'].isin(test_joke_idxs)\n",
        "\n",
        "test_user = rat[user_flag & -joke_flag]\n",
        "test_joke = rat[-user_flag & joke_flag]"
      ],
      "execution_count": 0,
      "outputs": []
    },
    {
      "metadata": {
        "id": "afr1aGGhVfPd",
        "colab_type": "code",
        "colab": {}
      },
      "cell_type": "code",
      "source": [
        "rem = rat[-user_flag & -joke_flag]\n",
        "X = rem[['user_id', 'num_rated', 'joke_id']]\n",
        "y = rem['rating']\n",
        "\n",
        "X_train, X_test, y_train, y_test = train_test_split(X, y, test_size=test_probs[2], \n",
        "                                                    random_state=101)\n",
        "X_train, X_valid, y_train, y_valid = train_test_split(X_train, y_train, \n",
        "                                                      test_size=valid_prob, \n",
        "                                                      random_state=101)"
      ],
      "execution_count": 0,
      "outputs": []
    },
    {
      "metadata": {
        "id": "C41QTA11VzK8",
        "colab_type": "code",
        "colab": {
          "base_uri": "https://localhost:8080/",
          "height": 35
        },
        "outputId": "290538e6-29f4-4a06-bf2d-98ede307b534"
      },
      "cell_type": "code",
      "source": [
        "assert len(y_train)+len(y_valid)+len(y_test) == len(rem.index)\n",
        "len(y_train), len(y_valid), len(y_test)"
      ],
      "execution_count": 100,
      "outputs": [
        {
          "output_type": "execute_result",
          "data": {
            "text/plain": [
              "(1147716, 60407, 63586)"
            ]
          },
          "metadata": {
            "tags": []
          },
          "execution_count": 100
        }
      ]
    },
    {
      "metadata": {
        "id": "kG1zMnQ5bHu1",
        "colab_type": "text"
      },
      "cell_type": "markdown",
      "source": [
        ""
      ]
    },
    {
      "metadata": {
        "id": "on2rdE2sbJQZ",
        "colab_type": "code",
        "colab": {
          "base_uri": "https://localhost:8080/",
          "height": 206
        },
        "outputId": "0b16f5e8-401b-43c7-8243-67e01f266b5e"
      },
      "cell_type": "code",
      "source": [
        "X_train.head()"
      ],
      "execution_count": 101,
      "outputs": [
        {
          "output_type": "execute_result",
          "data": {
            "text/html": [
              "<div>\n",
              "<style scoped>\n",
              "    .dataframe tbody tr th:only-of-type {\n",
              "        vertical-align: middle;\n",
              "    }\n",
              "\n",
              "    .dataframe tbody tr th {\n",
              "        vertical-align: top;\n",
              "    }\n",
              "\n",
              "    .dataframe thead th {\n",
              "        text-align: right;\n",
              "    }\n",
              "</style>\n",
              "<table border=\"1\" class=\"dataframe\">\n",
              "  <thead>\n",
              "    <tr style=\"text-align: right;\">\n",
              "      <th></th>\n",
              "      <th>user_id</th>\n",
              "      <th>num_rated</th>\n",
              "      <th>joke_id</th>\n",
              "    </tr>\n",
              "  </thead>\n",
              "  <tbody>\n",
              "    <tr>\n",
              "      <th>1949131</th>\n",
              "      <td>22835</td>\n",
              "      <td>58</td>\n",
              "      <td>56</td>\n",
              "    </tr>\n",
              "    <tr>\n",
              "      <th>388665</th>\n",
              "      <td>33821</td>\n",
              "      <td>128</td>\n",
              "      <td>19</td>\n",
              "    </tr>\n",
              "    <tr>\n",
              "      <th>118158</th>\n",
              "      <td>16774</td>\n",
              "      <td>8</td>\n",
              "      <td>13</td>\n",
              "    </tr>\n",
              "    <tr>\n",
              "      <th>4238341</th>\n",
              "      <td>30905</td>\n",
              "      <td>27</td>\n",
              "      <td>105</td>\n",
              "    </tr>\n",
              "    <tr>\n",
              "      <th>3731749</th>\n",
              "      <td>31233</td>\n",
              "      <td>128</td>\n",
              "      <td>94</td>\n",
              "    </tr>\n",
              "  </tbody>\n",
              "</table>\n",
              "</div>"
            ],
            "text/plain": [
              "         user_id  num_rated joke_id\n",
              "1949131    22835         58      56\n",
              "388665     33821        128      19\n",
              "118158     16774          8      13\n",
              "4238341    30905         27     105\n",
              "3731749    31233        128      94"
            ]
          },
          "metadata": {
            "tags": []
          },
          "execution_count": 101
        }
      ]
    },
    {
      "metadata": {
        "id": "TMR6w8z0oSLE",
        "colab_type": "code",
        "colab": {}
      },
      "cell_type": "code",
      "source": [
        ""
      ],
      "execution_count": 0,
      "outputs": []
    }
  ]
}