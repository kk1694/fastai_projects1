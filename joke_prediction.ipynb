{
 "cells": [
  {
   "cell_type": "markdown",
   "metadata": {},
   "source": [
    "# Joke Prediction Model\n",
    "\n",
    "I plan on fitting an RNN to a joke dataset, trying to predict the next character / word. I'll start with a character level model, see how it goes, and then maybe expand to a word level one."
   ]
  },
  {
   "cell_type": "code",
   "execution_count": null,
   "metadata": {},
   "outputs": [],
   "source": [
    "# Jokes are from https://www.kaggle.com/abhinavmoudgil95/short-jokes\n",
    "#!wget --header 'Host: storage.googleapis.com' --user-agent 'Mozilla/5.0 (X11; Ubuntu; Linux x86_64; rv:62.0) Gecko/20100101 Firefox/62.0' --header 'Accept: text/html,application/xhtml+xml,application/xml;q=0.9,*/*;q=0.8' --header 'Accept-Language: en-US,en;q=0.5' --referer 'https://www.kaggle.com/' --header 'Cookie: _ga=GA1.3.1074192472.1527065508; __utma=68291539.1074192472.1527065508.1536724042.1536724042.1; __utmz=68291539.1536724042.1.1.utmcsr=en.wikipedia.org|utmccn=(referral)|utmcmd=referral|utmcct=/; __utmc=68291539' --header 'Upgrade-Insecure-Requests: 1' 'https://storage.googleapis.com/kaggle-datasets/781/1457/short-jokes.zip?GoogleAccessId=web-data@kaggle-161607.iam.gserviceaccount.com&Expires=1537248429&Signature=EdF53GOF7yAMzdKSBFe%2FfafRN58zQq0gEsHwvYvBLZmNjeT87qMjyiLKf8vAl2K7%2FHJ%2BHHNn%2BrSL8klLQpW%2BY7ICRjdkZDTpUhvPlUw1heHJ1J1gj7Za%2B9kXHRmc7474DFm%2BzWysTm4sz5FVZwmPZIDHB8zwRhOQTvzVGbDwTFU3pYC%2BJ3EpGNRC4439a7Zjl7OkvkpAwu%2B1nJaFXunBWNtMIqXIgZBZPSha6TtvSrvz4wWN7zMOtbc6miNxKTFUFEFTO%2BnqyqXo8EGMJYizvIGcduIGvkYwTs6cQNlZx2CTngmZVOgA6ja6SscW%2B7M5jZCrOMcgGgDVaklSXNswkw%3D%3D' --output-document 'short-jokes.zip'"
   ]
  },
  {
   "cell_type": "code",
   "execution_count": 107,
   "metadata": {},
   "outputs": [],
   "source": [
    "import numpy as np\n",
    "import pandas as pd\n",
    "import random\n",
    "import torch\n",
    "\n",
    "import torch.nn as nn\n",
    "import torch.nn.functional as F\n",
    "from torch.utils.data import TensorDataset, DataLoader\n",
    "import torch.nn.functional as F\n",
    "import torch.optim as optim"
   ]
  },
  {
   "cell_type": "code",
   "execution_count": 22,
   "metadata": {},
   "outputs": [],
   "source": [
    "PATH = 'data/jokes/'\n",
    "\n",
    "PATH_TRAIN = PATH+'train/'\n",
    "PATH_VALID = PATH+'valid/'\n",
    "\n",
    "valid_prop = 0.1"
   ]
  },
  {
   "cell_type": "code",
   "execution_count": 56,
   "metadata": {},
   "outputs": [
    {
     "name": "stdout",
     "output_type": "stream",
     "text": [
      "463314\n",
      "9266\n"
     ]
    },
    {
     "data": {
      "text/html": [
       "<div>\n",
       "<style scoped>\n",
       "    .dataframe tbody tr th:only-of-type {\n",
       "        vertical-align: middle;\n",
       "    }\n",
       "\n",
       "    .dataframe tbody tr th {\n",
       "        vertical-align: top;\n",
       "    }\n",
       "\n",
       "    .dataframe thead th {\n",
       "        text-align: right;\n",
       "    }\n",
       "</style>\n",
       "<table border=\"1\" class=\"dataframe\">\n",
       "  <thead>\n",
       "    <tr style=\"text-align: right;\">\n",
       "      <th></th>\n",
       "      <th>ID</th>\n",
       "      <th>Joke</th>\n",
       "    </tr>\n",
       "  </thead>\n",
       "  <tbody>\n",
       "    <tr>\n",
       "      <th>96363</th>\n",
       "      <td>96364</td>\n",
       "      <td>How do I tell a guy that I'm only interested i...</td>\n",
       "    </tr>\n",
       "    <tr>\n",
       "      <th>76123</th>\n",
       "      <td>76124</td>\n",
       "      <td>What's cooler than Obama? Snowbama</td>\n",
       "    </tr>\n",
       "    <tr>\n",
       "      <th>72766</th>\n",
       "      <td>72767</td>\n",
       "      <td>Dance like theres no tomorrow OH MY GOD THERES...</td>\n",
       "    </tr>\n",
       "    <tr>\n",
       "      <th>60843</th>\n",
       "      <td>60844</td>\n",
       "      <td>No one likes a motherfucker *Except for the mo...</td>\n",
       "    </tr>\n",
       "    <tr>\n",
       "      <th>13097</th>\n",
       "      <td>13098</td>\n",
       "      <td>Teacher: I hope I didn't see you looking at  F...</td>\n",
       "    </tr>\n",
       "  </tbody>\n",
       "</table>\n",
       "</div>"
      ],
      "text/plain": [
       "          ID                                               Joke\n",
       "96363  96364  How do I tell a guy that I'm only interested i...\n",
       "76123  76124                 What's cooler than Obama? Snowbama\n",
       "72766  72767  Dance like theres no tomorrow OH MY GOD THERES...\n",
       "60843  60844  No one likes a motherfucker *Except for the mo...\n",
       "13097  13098  Teacher: I hope I didn't see you looking at  F..."
      ]
     },
     "execution_count": 56,
     "metadata": {},
     "output_type": "execute_result"
    }
   ],
   "source": [
    "jokes = pd.read_csv(PATH+'shortjokes.csv')\n",
    "print(jokes.size)\n",
    "# Reduce size for faster processing\n",
    "jokes = jokes.sample(frac = 0.02, random_state=101)\n",
    "print(jokes.size)\n",
    "jokes.head()"
   ]
  },
  {
   "cell_type": "code",
   "execution_count": 57,
   "metadata": {
    "scrolled": true
   },
   "outputs": [
    {
     "data": {
      "text/html": [
       "<div>\n",
       "<style scoped>\n",
       "    .dataframe tbody tr th:only-of-type {\n",
       "        vertical-align: middle;\n",
       "    }\n",
       "\n",
       "    .dataframe tbody tr th {\n",
       "        vertical-align: top;\n",
       "    }\n",
       "\n",
       "    .dataframe thead th {\n",
       "        text-align: right;\n",
       "    }\n",
       "</style>\n",
       "<table border=\"1\" class=\"dataframe\">\n",
       "  <thead>\n",
       "    <tr style=\"text-align: right;\">\n",
       "      <th></th>\n",
       "      <th>ID</th>\n",
       "      <th>Joke</th>\n",
       "    </tr>\n",
       "  </thead>\n",
       "  <tbody>\n",
       "    <tr>\n",
       "      <th>96363</th>\n",
       "      <td>0</td>\n",
       "      <td>How do I tell a guy that I'm only interested i...</td>\n",
       "    </tr>\n",
       "    <tr>\n",
       "      <th>76123</th>\n",
       "      <td>1</td>\n",
       "      <td>What's cooler than Obama? Snowbama</td>\n",
       "    </tr>\n",
       "    <tr>\n",
       "      <th>72766</th>\n",
       "      <td>2</td>\n",
       "      <td>Dance like theres no tomorrow OH MY GOD THERES...</td>\n",
       "    </tr>\n",
       "    <tr>\n",
       "      <th>60843</th>\n",
       "      <td>3</td>\n",
       "      <td>No one likes a motherfucker *Except for the mo...</td>\n",
       "    </tr>\n",
       "    <tr>\n",
       "      <th>13097</th>\n",
       "      <td>4</td>\n",
       "      <td>Teacher: I hope I didn't see you looking at  F...</td>\n",
       "    </tr>\n",
       "  </tbody>\n",
       "</table>\n",
       "</div>"
      ],
      "text/plain": [
       "       ID                                               Joke\n",
       "96363   0  How do I tell a guy that I'm only interested i...\n",
       "76123   1                 What's cooler than Obama? Snowbama\n",
       "72766   2  Dance like theres no tomorrow OH MY GOD THERES...\n",
       "60843   3  No one likes a motherfucker *Except for the mo...\n",
       "13097   4  Teacher: I hope I didn't see you looking at  F..."
      ]
     },
     "execution_count": 57,
     "metadata": {},
     "output_type": "execute_result"
    }
   ],
   "source": [
    "# Replace joke IDs with contiguous integers\n",
    "jokes['ID'] = list(range(len(jokes.index)))\n",
    "jokes.head()"
   ]
  },
  {
   "cell_type": "code",
   "execution_count": 58,
   "metadata": {},
   "outputs": [
    {
     "data": {
      "text/html": [
       "<div>\n",
       "<style scoped>\n",
       "    .dataframe tbody tr th:only-of-type {\n",
       "        vertical-align: middle;\n",
       "    }\n",
       "\n",
       "    .dataframe tbody tr th {\n",
       "        vertical-align: top;\n",
       "    }\n",
       "\n",
       "    .dataframe thead th {\n",
       "        text-align: right;\n",
       "    }\n",
       "</style>\n",
       "<table border=\"1\" class=\"dataframe\">\n",
       "  <thead>\n",
       "    <tr style=\"text-align: right;\">\n",
       "      <th></th>\n",
       "      <th>ID</th>\n",
       "      <th>Joke</th>\n",
       "    </tr>\n",
       "  </thead>\n",
       "  <tbody>\n",
       "    <tr>\n",
       "      <th>96363</th>\n",
       "      <td>0</td>\n",
       "      <td>how do i tell a guy that i'm only interested i...</td>\n",
       "    </tr>\n",
       "    <tr>\n",
       "      <th>76123</th>\n",
       "      <td>1</td>\n",
       "      <td>what's cooler than obama? snowbama</td>\n",
       "    </tr>\n",
       "    <tr>\n",
       "      <th>72766</th>\n",
       "      <td>2</td>\n",
       "      <td>dance like theres no tomorrow oh my god theres...</td>\n",
       "    </tr>\n",
       "    <tr>\n",
       "      <th>60843</th>\n",
       "      <td>3</td>\n",
       "      <td>no one likes a motherfucker *except for the mo...</td>\n",
       "    </tr>\n",
       "    <tr>\n",
       "      <th>13097</th>\n",
       "      <td>4</td>\n",
       "      <td>teacher: i hope i didn't see you looking at  f...</td>\n",
       "    </tr>\n",
       "  </tbody>\n",
       "</table>\n",
       "</div>"
      ],
      "text/plain": [
       "       ID                                               Joke\n",
       "96363   0  how do i tell a guy that i'm only interested i...\n",
       "76123   1                 what's cooler than obama? snowbama\n",
       "72766   2  dance like theres no tomorrow oh my god theres...\n",
       "60843   3  no one likes a motherfucker *except for the mo...\n",
       "13097   4  teacher: i hope i didn't see you looking at  f..."
      ]
     },
     "execution_count": 58,
     "metadata": {},
     "output_type": "execute_result"
    }
   ],
   "source": [
    "# Add start and end characters to joke\n",
    "#jokes['Joke'] = jokes['Joke'].apply(lambda x: '\\s'+x.lower()+'\\e')\n",
    "jokes['Joke'] = jokes['Joke'].apply(lambda x: x.lower())\n",
    "jokes.head()"
   ]
  },
  {
   "cell_type": "code",
   "execution_count": 59,
   "metadata": {},
   "outputs": [
    {
     "data": {
      "text/plain": [
       "(8338, 928, 9266)"
      ]
     },
     "execution_count": 59,
     "metadata": {},
     "output_type": "execute_result"
    }
   ],
   "source": [
    "random.seed(101)\n",
    "train_idxs = random.sample(list(jokes['ID']), int(len(jokes)*(1-valid_prop)))\n",
    "train_df = jokes.iloc[train_idxs]\n",
    "valid_df = jokes.iloc[list(set(jokes['ID']) - set(train_idxs))]\n",
    "train_df.size, valid_df.size, jokes.size"
   ]
  },
  {
   "cell_type": "code",
   "execution_count": 62,
   "metadata": {},
   "outputs": [],
   "source": [
    "train = '\\n\\n'.join(list(train_df['Joke']))\n",
    "valid = '\\n\\n'.join(list(valid_df['Joke']))"
   ]
  },
  {
   "cell_type": "code",
   "execution_count": 63,
   "metadata": {},
   "outputs": [
    {
     "name": "stdout",
     "output_type": "stream",
     "text": [
      "me and my girlfriend... me and my girlfriend watched 6 dvds back to back last night, fortunately i was the one facing the tv!\n",
      "\n",
      "what's the worst part about being a black jew? you have to sit at the back of the gas chamber.\n",
      "\n",
      "my friend told me everytime he goes to this sub he finds new hilarious jokes i was surprised at first, but then i remembered he has a short-term memory.\n",
      "\n",
      "pretty disappointed that shakespeare's hamlet didn't turn out to be the story of a delicious tiny ham.\n",
      "\n",
      "best listener girl:\n"
     ]
    }
   ],
   "source": [
    "print(valid[:500])"
   ]
  },
  {
   "cell_type": "code",
   "execution_count": 91,
   "metadata": {},
   "outputs": [
    {
     "name": "stdout",
     "output_type": "stream",
     "text": [
      "total chars: 66\n"
     ]
    }
   ],
   "source": [
    "chars = sorted(list(set(train).union(set(valid))))\n",
    "vocab_size = len(chars)\n",
    "print('total chars:', vocab_size)"
   ]
  },
  {
   "cell_type": "code",
   "execution_count": 65,
   "metadata": {},
   "outputs": [
    {
     "data": {
      "text/plain": [
       "'\\n !\"#$%&\\'()*+,-./0123456789:;<=?@[\\\\]^_`abcdefghijklmnopqrstuvwxyz~'"
      ]
     },
     "execution_count": 65,
     "metadata": {},
     "output_type": "execute_result"
    }
   ],
   "source": [
    "''.join(chars)"
   ]
  },
  {
   "cell_type": "code",
   "execution_count": 66,
   "metadata": {},
   "outputs": [],
   "source": [
    "char_indices = {c: i for i, c in enumerate(chars)}\n",
    "indices_char = {i: c for i, c in enumerate(chars)}"
   ]
  },
  {
   "cell_type": "code",
   "execution_count": 67,
   "metadata": {},
   "outputs": [],
   "source": [
    "idx_train = [char_indices[c] for c in train]\n",
    "idx_valid = [char_indices[c] for c in valid]"
   ]
  },
  {
   "cell_type": "code",
   "execution_count": 72,
   "metadata": {},
   "outputs": [
    {
     "data": {
      "text/plain": [
       "([47, 1, 42, 53, 52, 58, 1, 46, 39, 60], 'i dont hav')"
      ]
     },
     "execution_count": 72,
     "metadata": {},
     "output_type": "execute_result"
    }
   ],
   "source": [
    "idx_train[:10], ''.join(indices_char[i] for i in idx_train[:10])"
   ]
  },
  {
   "cell_type": "markdown",
   "metadata": {},
   "source": [
    "## Create our datasets/dataloaders"
   ]
  },
  {
   "cell_type": "code",
   "execution_count": 73,
   "metadata": {},
   "outputs": [],
   "source": [
    "cs = 20  # The size of input matrix\n",
    "bs = 64"
   ]
  },
  {
   "cell_type": "code",
   "execution_count": 210,
   "metadata": {},
   "outputs": [],
   "source": [
    "def createDS(idx, cs = cs):\n",
    "    c_in_dat = [[idx[i+j] for i in range(cs)] for j in range(0, len(idx)-cs-1, cs)]\n",
    "    c_out_dat = [[idx[i+j] for i in range(cs)] for j in range(1, len(idx)-cs, cs)]\n",
    "    xs = np.stack(c_in_dat)\n",
    "    ys = np.stack(c_out_dat)\n",
    "    \n",
    "    xs = torch.tensor(xs, dtype = torch.int64)\n",
    "    ys = torch.tensor(ys, dtype = torch.int64)\n",
    "    return TensorDataset(xs, ys)"
   ]
  },
  {
   "cell_type": "code",
   "execution_count": 211,
   "metadata": {},
   "outputs": [],
   "source": [
    "train_dl = DataLoader(createDS(idx_train), batch_size=64, drop_last=True)\n",
    "valid_dl = DataLoader(createDS(idx_valid), batch_size=64, drop_last=True)"
   ]
  },
  {
   "cell_type": "code",
   "execution_count": 203,
   "metadata": {},
   "outputs": [],
   "source": [
    "xs, ys = next(iter(train_dl))"
   ]
  },
  {
   "cell_type": "code",
   "execution_count": 140,
   "metadata": {},
   "outputs": [
    {
     "data": {
      "text/plain": [
       "torch.Size([64, 20])"
      ]
     },
     "execution_count": 140,
     "metadata": {},
     "output_type": "execute_result"
    }
   ],
   "source": [
    "xs.shape"
   ]
  },
  {
   "cell_type": "code",
   "execution_count": null,
   "metadata": {},
   "outputs": [],
   "source": []
  },
  {
   "cell_type": "markdown",
   "metadata": {},
   "source": [
    "## Create Model"
   ]
  },
  {
   "cell_type": "code",
   "execution_count": 123,
   "metadata": {},
   "outputs": [],
   "source": [
    "n_hidden = 256\n",
    "n_fac = 40"
   ]
  },
  {
   "cell_type": "code",
   "execution_count": 216,
   "metadata": {},
   "outputs": [],
   "source": [
    "def loss_batch(model, loss_func, xb, yb, opt=None):\n",
    "    '''https://github.com/fastai/fastai_v1/blob/master/dev_nb/001a_nn_basics.ipynb'''\n",
    "    # Note: changed this by adding yb.view(-1) to match dimensions\n",
    "    loss = loss_func(model(xb), yb.view(-1))\n",
    "\n",
    "    if opt is not None:\n",
    "        loss.backward()\n",
    "        opt.step()\n",
    "        opt.zero_grad()\n",
    "        \n",
    "    return loss.item(), len(xb)\n",
    "\n",
    "def fit(epochs, model, loss_func, opt, train_dl, valid_dl):\n",
    "    '''https://github.com/fastai/fastai_v1/blob/master/dev_nb/001a_nn_basics.ipynb'''\n",
    "    for epoch in range(epochs):\n",
    "        \n",
    "        # Fit model to training data\n",
    "        model.train()\n",
    "        losses,nums = zip(*[loss_batch(model, loss_func, xb, yb) for xb,yb in train_dl])\n",
    "        train_loss = np.sum(np.multiply(losses,nums)) / np.sum(nums)\n",
    "        \n",
    "        for xb,yb in train_dl: loss_batch(model, loss_func, xb, yb, opt)\n",
    "            \n",
    "        # Calculate loss on validation set\n",
    "        model.eval()\n",
    "        with torch.no_grad():\n",
    "            losses,nums = zip(*[loss_batch(model, loss_func, xb, yb)\n",
    "                                for xb,yb in valid_dl])\n",
    "        val_loss = np.sum(np.multiply(losses,nums)) / np.sum(nums)\n",
    "\n",
    "        print(f'Epoch {epoch}. Training loss: {train_loss}. Validation loss: {val_loss}.')"
   ]
  },
  {
   "cell_type": "code",
   "execution_count": 217,
   "metadata": {},
   "outputs": [],
   "source": [
    "class CharSeqRNN(nn.Module):\n",
    "    def __init__(self, vocab_size, bs, n_fac=n_fac, n_hidden=n_hidden):\n",
    "        super().__init__()\n",
    "        self.vocab_size = vocab_size        \n",
    "        self.n_hidden = n_hidden\n",
    "        self.emb = nn.Embedding(vocab_size, n_fac)\n",
    "        self.rnn = nn.RNN(n_fac, n_hidden)\n",
    "        #self.rnncell = nn.RNNCell(n_fac, n_hidden)\n",
    "        self.lout = nn.Linear(n_hidden, vocab_size)\n",
    "        #self.emb.weight.data.uniform_(0, 0.05)\n",
    "        self.init_hidden(bs)\n",
    "        \n",
    "    def init_hidden(self, bs): self.h =  torch.zeros(1, bs, self.n_hidden)\n",
    "        \n",
    "    def forward(self, cs):\n",
    "        bs = cs[0].size(0)\n",
    "        if self.h.size(1) != bs: self.init_hidden(bs)\n",
    "        #output = []\n",
    "        #o = self.h\n",
    "        #ipdb.set_trace()\n",
    "        #for c in cs:\n",
    "            #emb = self.emb(c)\n",
    "            #o = self.rnncell(emb, o)\n",
    "            #output.append(o)\n",
    "        output, h = self.rnn(self.emb(cs), self.h)\n",
    "        #output = self.lout(torch.stack(output))\n",
    "        self.h = torch.tensor(h.data)\n",
    "        output = self.lout(output)\n",
    "        return F.log_softmax(output, dim=-1).view(-1, self.vocab_size)"
   ]
  },
  {
   "cell_type": "code",
   "execution_count": 218,
   "metadata": {},
   "outputs": [
    {
     "name": "stdout",
     "output_type": "stream",
     "text": [
      "CharSeqRNN(\n",
      "  (emb): Embedding(66, 40)\n",
      "  (rnn): RNN(40, 256)\n",
      "  (lout): Linear(in_features=256, out_features=66, bias=True)\n",
      ")\n"
     ]
    }
   ],
   "source": [
    "m = CharSeqRNN(vocab_size, bs = 64)\n",
    "print(m)"
   ]
  },
  {
   "cell_type": "code",
   "execution_count": 219,
   "metadata": {},
   "outputs": [
    {
     "name": "stdout",
     "output_type": "stream",
     "text": [
      "Epoch 0. Training loss: 4.173988877573321. Validation loss: 2.8111944811684744.\n"
     ]
    }
   ],
   "source": [
    "opt = optim.SGD(m.parameters(), lr=0.01, momentum=0.7)\n",
    "loss_func = F.nll_loss\n",
    "fit(1, m, loss_func, opt, train_dl, valid_dl)"
   ]
  },
  {
   "cell_type": "markdown",
   "metadata": {},
   "source": [
    "## Look at examples"
   ]
  },
  {
   "cell_type": "code",
   "execution_count": 254,
   "metadata": {},
   "outputs": [],
   "source": [
    "def get_next(inp):\n",
    "    idxs = [char_indices[c] for c in inp]\n",
    "    model.eval()\n",
    "    with torch.no_grad():\n",
    "        p = m(torch.tensor(idxs).view(1, -1))\n",
    "        r = torch.multinomial(p[-1].exp(), 1)\n",
    "        res = indices_char[r.detach().numpy()[0]]\n",
    "    return res\n",
    "\n",
    "\n",
    "def get_next_n(inp, n):\n",
    "    res = inp\n",
    "    for i in range(n):\n",
    "        c = get_next(inp)\n",
    "        res += c\n",
    "        inp = inp[1:]+c\n",
    "    return res"
   ]
  },
  {
   "cell_type": "code",
   "execution_count": 255,
   "metadata": {},
   "outputs": [
    {
     "data": {
      "text/plain": [
       "'one summeoa:oke d r\\nhuor d tfgime giewahsaqcyton iorsvonad'"
      ]
     },
     "execution_count": 255,
     "metadata": {},
     "output_type": "execute_result"
    }
   ],
   "source": [
    "get_next_n('one summ', 50)"
   ]
  },
  {
   "cell_type": "code",
   "execution_count": null,
   "metadata": {},
   "outputs": [],
   "source": []
  }
 ],
 "metadata": {
  "kernelspec": {
   "display_name": "Python 3",
   "language": "python",
   "name": "python3"
  },
  "language_info": {
   "codemirror_mode": {
    "name": "ipython",
    "version": 3
   },
   "file_extension": ".py",
   "mimetype": "text/x-python",
   "name": "python",
   "nbconvert_exporter": "python",
   "pygments_lexer": "ipython3",
   "version": "3.6.4"
  }
 },
 "nbformat": 4,
 "nbformat_minor": 2
}
